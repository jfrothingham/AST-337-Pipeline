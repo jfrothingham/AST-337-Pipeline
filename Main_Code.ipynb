{
 "cells": [
  {
   "cell_type": "markdown",
   "id": "d86d9cf8",
   "metadata": {},
   "source": [
    "### Create Color Magnitude Diagram of M34 \n",
    "* Julia Frothingham, Alyssa Guzman, Molly Loughney, Jingyi Zhang\n",
    "* 2021-11-26"
   ]
  },
  {
   "cell_type": "code",
   "execution_count": null,
   "id": "e3e61e2d",
   "metadata": {},
   "outputs": [],
   "source": [
    "%matplotlib inline\n",
    "import numpy as np\n",
    "import matplotlib.pyplot as plt\n",
    "import astropy\n",
    "from astropy.io import fits \n",
    "from astropy.visualization import ZScaleInterval\n",
    "import matplotlib.cm as cm\n",
    "import glob \n",
    "import os\n",
    "import pandas as pd\n",
    "import scipy.ndimage.interpolation as interp\n",
    "from matplotlib import colors\n",
    "\n",
    "from astropy.stats import mad_std\n",
    "from astropy.stats import sigma_clip\n",
    "from photutils.utils import calc_total_error\n",
    "import astropy.stats as stat\n",
    "from photutils import aperture_photometry, CircularAperture, CircularAnnulus, DAOStarFinder"
   ]
  },
  {
   "cell_type": "code",
   "execution_count": null,
   "id": "928fc3df",
   "metadata": {},
   "outputs": [],
   "source": [
    "import ast337_data_processing as dp\n",
    "import ast337_photometry_analysis as pa"
   ]
  },
  {
   "cell_type": "code",
   "execution_count": null,
   "id": "cb6621b3",
   "metadata": {},
   "outputs": [],
   "source": [
    "#for everything\n",
    "all_data_path = '/Users/mloughney/Desktop/2021oct28'\n",
    "filters = ['B','V','R','I']\n",
    "\n",
    "#for data reduction\n",
    "biases = 'cal*bias.fit'\n",
    "darks = 'cal*dark*'\n",
    "flats = 'cal*flat*'\n",
    "sta_star = 'sa115*'\n",
    "M34 = 'M34*'\n",
    "\n",
    "#for image alignment\n",
    "standard_star_name = '{}Standard'\n",
    "standard_star = 'fdb_sa115*.fit'\n",
    "standard_star_ref = np.array([[[1895,1670],[1895,1550]]])\n",
    "m34_name = '{}M34'\n",
    "m34 = 'fdb_M34*.fit'\n",
    "m34_ref = np.array([[[1488,1068],[1526,1134]]])"
   ]
  },
  {
   "cell_type": "code",
   "execution_count": null,
   "id": "d9d3fc11",
   "metadata": {},
   "outputs": [],
   "source": [
    "#reduce standard star\n",
    "dp.data_reduction (all_data_path, #path to directory with all images, including data and calibrations(str)\n",
    "                    biases,       #naming format of bias frames (str)\n",
    "                    darks,        #naming format of dark frames (str)\n",
    "                    flats,        #naming format of flat fields (str)\n",
    "                    sta_star,        #naming format of data\n",
    "                    filters)      #list of filters"
   ]
  },
  {
   "cell_type": "code",
   "execution_count": null,
   "id": "9587697a",
   "metadata": {},
   "outputs": [],
   "source": [
    "#reduce M34 frames\n",
    "dp.data_reduction (all_data_path, #path to directory with all images, including data and calibrations(str)\n",
    "                    biases,        #naming format of bias frames (str)\n",
    "                    darks,         #naming format of dark frames (str)\n",
    "                    flats,         #naming format of flat fields (str)\n",
    "                    M34,           #naming format of data\n",
    "                    filters)       #list of filters"
   ]
  },
  {
   "cell_type": "code",
   "execution_count": null,
   "id": "fbccc078",
   "metadata": {},
   "outputs": [],
   "source": [
    "#stack and align standard stars\n",
    "dp.image_alignment (all_data_path,         # absolute path to the directory that contains all images\n",
    "                     standard_star_name,    # naming format of desired stacked images\n",
    "                     standard_star,         # naming format of the images that needs to be stacked\n",
    "                     standard_star_ref,    # lists of refernce star and back ground pairs, in the format [[[ref1x,ref1y],[bg1x,bg1y]],[[ref2x,ref2y],[bg2x,bg2y]]]\n",
    "                     filters,              #list of filters\n",
    "                    )"
   ]
  },
  {
   "cell_type": "code",
   "execution_count": null,
   "id": "55f707d5",
   "metadata": {},
   "outputs": [],
   "source": [
    "#stack M34\n",
    "dp.image_alignment (all_data_path,         # absolute path to the directory that contains all images\n",
    "                     m34_name,            # naming format of desired stacked images\n",
    "                     m34,                  # naming format of the images that needs to be stacked\n",
    "                     m34_ref,              # lists of refernce star and back ground pairs, in the format [[[ref1x,ref1y],[bg1x,bg1y]],[[ref2x,ref2y],[bg2x,bg2y]]]\n",
    "                     filters,              #list of filters\n",
    "                    )"
   ]
  },
  {
   "cell_type": "code",
   "execution_count": null,
   "id": "70eb47ce",
   "metadata": {},
   "outputs": [],
   "source": [
    "#checked the image\n",
    "stacked = fits.getdata('s_StackedIStandard.fit')\n",
    "plt.figure(figsize = (10,10))\n",
    "plt.imshow(stacked,cmap = 'gray')#, norm = colors.LogNorm())\n",
    "plt.colorbar()\n",
    "plt.clim(0,100)"
   ]
  },
  {
   "cell_type": "code",
   "execution_count": null,
   "id": "55a9cfb8",
   "metadata": {},
   "outputs": [],
   "source": [
    "#list of frames that needs photometry\n",
    "sa_frames = [['s_StackedVStandard.fit', 9.91, 16, 28, 42, 'V'],\n",
    "             ['s_StackedBStandard.fit', 18, 20, 35, 53, 'B'],\n",
    "             ['s_StackedRStandard.fit', 8.01, 15, 27, 41, 'R'],\n",
    "             ['s_StackedIStandard.fit', 7.58, 14, 25, 38, 'I'],]\n",
    "m34_frames = [['s_StackedBM34.fit', 8.24, 14, 25, 38, 'B'],\n",
    "             ['s_StackedVM34.fit', 10.91, 15, 27, 41, 'V'],\n",
    "             ['s_StackedRM34.fit', 8.84, 14, 25, 38, 'R'],\n",
    "             ['s_StackedIM34.fit', 9.30, 14, 25, 38, 'I'],]\n",
    "sigma_limit = 7"
   ]
  },
  {
   "cell_type": "code",
   "execution_count": null,
   "id": "a44ce95a",
   "metadata": {},
   "outputs": [],
   "source": [
    "#aperture phtometry on standard star\n",
    "sa_flux_table = pa.ast337_aperture_photometry (all_data_path,       #absolute path to all frames\n",
    "                                                'StandardStarPhotometry',           # name of this object, used to store all photometry data in an CSV file\n",
    "                                                15,          #number of sigmas that requires to identify a source\n",
    "                                                sa_frames,    #list of images that wish to be measure, with their associate parameters in the form of \n",
    "                                                                  #[[name1, fwhm2, apertureradius2, sky ineer radius2, sky outer radius2, filter1],\n",
    "                                                               #[name2, fwhm2, apertureradius2, sky ineer radius2, sky outer radius2, filter2]]\n",
    "                                                   )"
   ]
  },
  {
   "cell_type": "code",
   "execution_count": null,
   "id": "f1f7727e",
   "metadata": {},
   "outputs": [],
   "source": [
    "#aperture phtometry on m34\n",
    "m34_flux_table = pa.ast337_aperture_photometry (all_data_path,       #absolute path to all frames\n",
    "                                                'M34Photometry',           # name of this object, used to store all photometry data in an CSV file\n",
    "                                                sigma_limit ,          #number of sigmas that requires to identify a source\n",
    "                                                m34_frames,    #list of images that wish to be measure, with their associate parameters in the form of \n",
    "                                                                  #[[name1, fwhm2, apertureradius2, sky ineer radius2, sky outer radius2, filter1],\n",
    "                                                               #[name2, fwhm2, apertureradius2, sky ineer radius2, sky outer radius2, filter2]]\n",
    "                                                   )"
   ]
  },
  {
   "cell_type": "code",
   "execution_count": null,
   "id": "36de577b",
   "metadata": {},
   "outputs": [],
   "source": [
    "# calculate the zeropoint in each filter \n",
    "standardstar = sa_flux_table.loc[[11]]\n",
    "magzp_V = 9.695 - float(standardstar['V_inst'])\n",
    "magzp_V_error = np.sqrt((float(standardstar['V_inst_err']))**2 + (0.0005)**2)\n",
    "magzp_B = 9.695 + 0.615 - float(standardstar['B_inst'])\n",
    "magzp_B_error = np.sqrt((float(standardstar['B_inst_err']))**2 + (0.0005)**2)\n",
    "magzp_R = 9.695 - 0.353 - float(standardstar['R_inst'])\n",
    "magzp_R_error = np.sqrt((float(standardstar['R_inst_err']))**2 + (0.0005)**2)\n",
    "magzp_I = 9.695 - 0.353 - 0.349 - float(standardstar['I_inst'])\n",
    "magzp_I_error = np.sqrt((float(standardstar['I_inst_err']))**2 + (0.0005)**2)\n",
    "\n",
    "zp_parameter = [['V',magzp_V,magzp_V_error],\n",
    "                ['B',magzp_B,magzp_B_error],\n",
    "                ['R',magzp_R,magzp_R_error],\n",
    "                ['I',magzp_I,magzp_I_error]]"
   ]
  },
  {
   "cell_type": "code",
   "execution_count": null,
   "id": "401e1665",
   "metadata": {},
   "outputs": [],
   "source": [
    "# calculate the \"true magnitude\" of objects in m34\n",
    "m34_mag = pa.zero_calculation (zp_parameter,   #list of parameters of zero points in differnt filters, in the form of \n",
    "                                               #[[filter1, zeropoint magnitude1, zeropoint err2],\n",
    "                                               # [filter2, zeropoint magnitude2, zeropoint err2]]\n",
    "                                  m34_flux_table,      # the data frame of the sky that we want to measure, not the standard star\n",
    "                                  'M34Mag')     #name of the chart for saving"
   ]
  },
  {
   "cell_type": "code",
   "execution_count": null,
   "id": "092870c3",
   "metadata": {},
   "outputs": [],
   "source": [
    "# calculate color index\n",
    "VR = m34_mag['Vmag']- m34_mag['Rmag']\n",
    "VRerr = np.sqrt((m34_mag['Vmag_err']) **2 + (m34_mag['Rmag_err'])**2)"
   ]
  },
  {
   "cell_type": "code",
   "execution_count": null,
   "id": "57cdccb4",
   "metadata": {},
   "outputs": [],
   "source": [
    "# plot the CMD\n",
    "fig, (ax1) = plt.subplots(1, 1)\n",
    "ax1.errorbar(VR, m34_mag['Vmag'], VRerr, m34_mag['Vmag_err'], marker = '+', linestyle='None')\n",
    "ax1.set_ylabel('V mag')\n",
    "ax1.set_xlabel('V-R')\n",
    "ax1.set_title('CMD')\n",
    "ax1.invert_yaxis()"
   ]
  },
  {
   "cell_type": "code",
   "execution_count": null,
   "id": "cda816ae",
   "metadata": {},
   "outputs": [],
   "source": [
    "#isochrone fitting\n",
    "dp.Isochrones_fitting (\"M34Mag.csv\",  # name of the file that contains the aparent magnitude of cluster stars\n",
    "                        \"M34\",   # name of the cluster\n",
    "                        \"Lab10Materials/isochrones_marigo08_3e8yr.txt\",  # name of the model isochrone\n",
    "                        '300M',       # age of the model \n",
    "                        ['B','V'],     # a list of two filters that used for calculating the color index,\n",
    "                                        # eg. ['V', 'R'] then V-R would be on the xaxis of the CMD\n",
    "                        'V',          # the filter that the color index should be plotted against\n",
    "                        8.5# the shift in the yaxis  so that the isochrone matches the actual data\n",
    "                      )"
   ]
  }
 ],
 "metadata": {
  "kernelspec": {
   "display_name": "Python 3",
   "language": "python",
   "name": "python3"
  },
  "language_info": {
   "codemirror_mode": {
    "name": "ipython",
    "version": 3
   },
   "file_extension": ".py",
   "mimetype": "text/x-python",
   "name": "python",
   "nbconvert_exporter": "python",
   "pygments_lexer": "ipython3",
   "version": "3.8.8"
  }
 },
 "nbformat": 4,
 "nbformat_minor": 5
}
